{
  "nbformat": 4,
  "nbformat_minor": 0,
  "metadata": {
    "colab": {
      "name": "ML_KeyConcepts.ipynb",
      "provenance": [],
      "authorship_tag": "ABX9TyOLihr/fLNKZC408BQp8qFc",
      "include_colab_link": true
    },
    "kernelspec": {
      "name": "python3",
      "display_name": "Python 3"
    },
    "language_info": {
      "name": "python"
    }
  },
  "cells": [
    {
      "cell_type": "markdown",
      "metadata": {
        "id": "view-in-github",
        "colab_type": "text"
      },
      "source": [
        "<a href=\"https://colab.research.google.com/github/rameshavinash94/ML_KeyConcepts/blob/main/ML_KeyConcepts.ipynb\" target=\"_parent\"><img src=\"https://colab.research.google.com/assets/colab-badge.svg\" alt=\"Open In Colab\"/></a>"
      ]
    },
    {
      "cell_type": "markdown",
      "source": [
        "**What is Machine learning?**\n",
        "\n",
        "Machine learning is a set of techniques for teaching computers to do tasks that humans can do better than machines (traditionally)\n",
        "\n",
        "\n",
        "Machine learning entails teaching machines to learn in the same way that humans do."
      ],
      "metadata": {
        "id": "gyx-afvpzmgP"
      }
    },
    {
      "cell_type": "markdown",
      "source": [
        "**By Definition:**\n",
        "\n",
        "“Machine Learning is defined as the study of computer programs that leverage algorithms and statistical models to learn through inference and patterns without being explicitly programed. Machine Learning field has undergone significant developments in the last decade.”"
      ],
      "metadata": {
        "id": "p_KPlFFZAlNd"
      }
    },
    {
      "cell_type": "markdown",
      "source": [
        "**Example:**"
      ],
      "metadata": {
        "id": "A_daJIEoAowx"
      }
    },
    {
      "cell_type": "markdown",
      "source": [
        "Lets, for example think how we can humans are better at driving vehicles or having a conversation etc..\n",
        "\n",
        "For that, we need to understand how our human brain works..\n",
        "<div>\n",
        "<img src=\"https://drive.google.com/uc?id=1i0b4TdPmR1s9tzBFqbH2ZRoOBqrXP2VK\" width=\"150\")>\n",
        "</div>\n",
        "\n",
        "Our Human brain contains lots of tiny neurons (billion of neurons). so whenever we think of anyting , a  signal is generated and these tiny neurons light up.\n",
        "\n",
        "<div>\n",
        "<img src=\"https://dana.org/wp-content/uploads/2019/08/how-brain-works-basics-2.jpg\" width=\"200\" >\n",
        "\n",
        "\n",
        "\n",
        "A simple diagram representation of neurons where rounded nodes are the neurons and arrows are the synapses that connect these neurons \n",
        "<div>\n",
        "<img src=\"\n",
        "https://www.analyticsvidhya.com/blog/wp-content/uploads/2014/10/ANN.png\" width=\"200\" >\n",
        "</div>\n",
        "\n",
        "\n",
        "So, For example, when there is a baby and when he/she see's a image of a cow  for the first time,we tells the baby that it is a cow. \n",
        "So, internally in baby brain a specific set of neurons light up and it gets registered as cow.\n",
        "\n",
        "<img src=\"https://drive.google.com/uc?id=12Gqyo90YjFLhoNUvE1wq17XhyIDjswg7\" width=\"200\" >\n",
        "</div>\n",
        "\n",
        "So, next day, when a baby see a another different type of cow, and we agains say that this is also a cow, so again same and some additional set of neurons light up and pathways become more stronger.\n",
        "\n",
        "<img src=\"https://drive.google.com/uc?id=1F7B_VwIH2IsKbGBec4_4gktsGXf1fleu\" width=\"200\" >\n",
        "</div>\n",
        "\n",
        "Similarly , when a baby see's a car you would let him/her that, this is a car.\n",
        "\n",
        "<img src=\"https://drive.google.com/uc?id=1h89sk1_87lbxeoj6YxAcSV-ET5tbDxAT\" width=\"200\" >\n",
        "</div>\n",
        "\n",
        "This way you are training the baby. So as humans how we learn thing is we make mistakes someone corrects it and then we learn from the mistakes and carry on. SO during our learning, what happens in our brain is new / existing neurons are created/adjusted and pathways are being created/lightened. This leads to certain output or decision making.\n",
        "\n",
        "In the Similar way computers can also be trained in the neural network way with a lot of training data and corresponding neurons and pathways are adjusted such that the neural network gets trained, So when we provide a later input to machine it can predict the correct output.\n",
        "\n",
        "The Above process is called **Deep Learning** and it is one of the sub divisions of machine learning.\n"
      ],
      "metadata": {
        "id": "6UPF3kgZ1DY1"
      }
    },
    {
      "cell_type": "markdown",
      "source": [
        "**ML in a kind of broad sense**"
      ],
      "metadata": {
        "id": "_e8VsWDyAvTf"
      }
    },
    {
      "cell_type": "markdown",
      "source": [
        "Machine Learning is quite a broad term and it is a field of computer science where we use various techniques.\n",
        "\n",
        "There are various techniques that we use to extract knowledege from the availalble data and use the knowledge to make the decisions.\n",
        "\n",
        "There are lot of mathematical and statistical models that we use in Machine Learning to make predictions.\n",
        "\n",
        "ML has a lot of implications in our reallife. Currently, it is used everwhere in our day to day acitvities such as Home enabled AI devices like Alexa, Google Home etc...\n",
        "\n",
        "One such example is the spam filter in our Email that we use on a day to day basis.\n",
        "\n",
        "**Some Applications:**\n",
        "\n",
        "**Healthcare:** Predicting patient diagnostics for doctors to review\n",
        "\n",
        "**Social Network:** Predicting certain match preferences on a dating \n",
        "website for better compatibility\n",
        "\n",
        "**Finance:** Predicting fraudulent activity on a credit card\n",
        "\n",
        "**E-commerce:** Predicting customer churn, product recommendations etc..\n",
        "\n",
        "**Biology:** Finding patterns in gene mutations that could represent cancer"
      ],
      "metadata": {
        "id": "Iup9BEfd-0L8"
      }
    },
    {
      "cell_type": "markdown",
      "source": [
        "### **Types of Machine Learning:**"
      ],
      "metadata": {
        "id": "t5rYli1r_oDR"
      }
    },
    {
      "cell_type": "markdown",
      "source": [
        "<div>\n",
        "<img src='https://miro.medium.com/max/1204/0*-068ud_-o3ajwq_z.jpg' width='300'>\n",
        "</div>"
      ],
      "metadata": {
        "id": "dA7-uifS_tax"
      }
    },
    {
      "cell_type": "markdown",
      "source": [
        "<div>\n",
        "<img src='https://idapgroup.com/blog/blog/wp-content/uploads/2019/11/34534-1024x427.png' width='400'>\n",
        "</div>"
      ],
      "metadata": {
        "id": "pRIXXvPXC2nH"
      }
    },
    {
      "cell_type": "markdown",
      "source": [
        "**Supervised Learning:**\n",
        "\n",
        "Supervised learning is the most popular paradigm for machine learning. It is the easiest to understand and the simplest to implement. It is very similar to teaching a child with the use of flash cards.\n",
        "\n",
        "<div>\n",
        "<img src='https://media1.popsugar-assets.com/files/thumbor/YtFZa7ZB9CynuXPEwmZUOuqURFM/fit-in/2048xorig/filters:format_auto-!!-:strip_icc-!!-/2011/06/26/1/192/1922664/9351a8c9096adcd8_baby_flash_cards/i/Cute-Baby-Flash-Cards.png\n",
        "' width='250'>\n",
        "</div>\n",
        "\n",
        "\n",
        "In this type, the machine learning algorithm is trained on **labeled data**. In other words, the data has already been tagged with the correct answer.\n",
        "\n",
        "In supervised learning, the ML algorithm is given a small training dataset to work with. \n",
        "This training dataset is a smaller part of the bigger dataset and serves to give the algorithm a basic idea of the problem, solution, and data points to be dealt with.\n",
        "\n",
        "<div>\n",
        "<img src='https://blog.finxter.com/wp-content/uploads/2020/12/image-88.png' width='400'>\n",
        "</div>\n",
        "\n",
        "The training dataset is also very similar to the final dataset in its characteristics and provides the algorithm with the labeled parameters required for the problem."
      ],
      "metadata": {
        "id": "3vRa1mzHAHOY"
      }
    },
    {
      "cell_type": "markdown",
      "source": [
        "**Reason:**\n",
        "\n",
        "Main reson for supervised ML is to **automated time consuming or expensive manual taks**. \n",
        "Example: Daignosis,  Attendance Tracking etc..\n",
        "\n",
        "**Another important aspect is making prediction.**\n",
        "\n",
        "will a customer purchase this new product or will he click on this advertisement or not ? "
      ],
      "metadata": {
        "id": "YgWcXVMbGVAw"
      }
    },
    {
      "cell_type": "markdown",
      "source": [
        "**Different Types of Supervised Learning**"
      ],
      "metadata": {
        "id": "PNSfMDAlBW9L"
      }
    },
    {
      "cell_type": "markdown",
      "source": [
        "**Regression:**\n",
        "In regression, a single output value is produced using training data. \n",
        "  For example, regression can help predict the price of a house based on its locality, size, etc. \n",
        "\n",
        "\n",
        "\n",
        "<div>\n",
        "<img src='https://wingshore.files.wordpress.com/2014/11/model1.png' width='400'>\n",
        "</div>\n",
        "\n",
        "**Classification**\n",
        "It involves grouping the data into classes.  If you are thinking of extending credit to a person, you can use classification to determine whether or not a person would be a loan defaulter. \n",
        "\n",
        "When the supervised learning algorithm labels input data into two distinct classes, it is called binary classification. Multiple classifications means categorizing data into more than two classes.\n",
        "\n",
        "<div>\n",
        "<img src='https://media.geeksforgeeks.org/wp-content/uploads/classification-1.png' width='400'>\n",
        "</div>\n"
      ],
      "metadata": {
        "id": "KsBNs9UsB0H4"
      }
    },
    {
      "cell_type": "markdown",
      "source": [
        "**Linear Regression**"
      ],
      "metadata": {
        "id": "XlxQUZ7TDS9k"
      }
    },
    {
      "cell_type": "markdown",
      "source": [
        "Regression is a method of modelling a target value based on independent predictors. \n",
        "This method is mostly used for **forecasting and finding out cause and effect relationship between variables**. Regression techniques mostly differ based on the number of independent variables and the type of relationship between the independent and dependent variables."
      ],
      "metadata": {
        "id": "3-ZJ4Ga3bHck"
      }
    },
    {
      "cell_type": "markdown",
      "source": [
        "<div>\n",
        "<img src='https://miro.medium.com/max/1400/0*szXvH1a4ZQytyqhg.png' width='400'>\n",
        "</div>\n",
        "\n",
        "*The red line in the above graph is referred to as the best fit straight line. Based on the given data points, we try to plot a line that models the points the best. The line can be modelled based on the linear equation shown below.*\n",
        "\n"
      ],
      "metadata": {
        "id": "eLQy2nDKdNDJ"
      }
    },
    {
      "cell_type": "markdown",
      "source": [
        "A linear regression line has an equation of the form \n",
        "\n",
        "**`Y = mX + c`**\n",
        "\n",
        "where X is the explanatory/independent variable and Y is the dependent variable. The slope of the line is m, and c is the intercept (the value of y when x = 0).\n",
        "\n",
        "\n",
        "***In case of Housing price prediction:***\n",
        "<div>\n",
        "<img src=\"https://drive.google.com/uc?id=1rwftJLQ2J764Vyp8cRTYlkBlLN3dPnFG\" width=\"250\")>\n",
        "</div>\n"
      ],
      "metadata": {
        "id": "NLMQRGZddvbY"
      }
    },
    {
      "cell_type": "markdown",
      "source": [
        "**Simple linear regression is used to estimate the relationship between two quantitative variables. You can use simple linear regression when you want to know:**\n",
        "\n",
        "*How strong the relationship is between two variables (e.g. the relationship between rainfall and soil erosion).*\n",
        "\n",
        "*The value of the dependent variable at a certain value of the independent variable (e.g. the amount of soil erosion at a certain level of rainfall).*"
      ],
      "metadata": {
        "id": "6YWKJqCEcn5Z"
      }
    },
    {
      "cell_type": "markdown",
      "source": [
        "**Prior moving to Linear regression code/algorithm lets understand few important concepts required for Linear regression.**"
      ],
      "metadata": {
        "id": "fomI3SFkcMUl"
      }
    },
    {
      "cell_type": "markdown",
      "source": [
        "**Correlation:** explains the association among variables within the data\n",
        "\n",
        "<div>\n",
        "<img src='https://www.mathsisfun.com/data/images/correlation-examples.svg' width='400'>\n",
        "</div>\n",
        "\n",
        "**Variance:** the degree of the spread of the data\n",
        "\n",
        "**Standard deviation:** the square root of the variance\n",
        "\n",
        "**Normal distribution:** a continuous probability distribution(gaussian distribution), it’s sort of a bell curve in which the right side of the mean is the mirror of the left side"
      ],
      "metadata": {
        "id": "7fLXLIQDht3J"
      }
    },
    {
      "cell_type": "markdown",
      "source": [
        "**Cost Function**"
      ],
      "metadata": {
        "id": "xianK6SNceLk"
      }
    },
    {
      "cell_type": "markdown",
      "source": [
        "Cost function helps to find the best possbile value for m and c, such that we can provide the best fit line for the data points.\n",
        "\n",
        "Cost function measures how a machine learning model performs.\n",
        "\n",
        "Cost function is the calculation of the error between predicted values and actual values, represented as a single real number.\n",
        "\n",
        "\n",
        "**The difference between the cost function and loss function is as follows:**\n",
        "\n",
        "The cost function is the average error of n-samples in the data (for the whole training data) and the loss function is the error for individual data points (for one training example).\n"
      ],
      "metadata": {
        "id": "lv8Fa_0Ucieg"
      }
    },
    {
      "cell_type": "markdown",
      "source": [
        "**Formula for Linear regression Cost function**\n",
        "\n",
        "The cost function of a linear regression is root mean squared error or mean squared error. They are both the same; just we square it so that we don’t get negative values.\n",
        "\n",
        "\n",
        "<div>\n",
        "<img src='https://images.contentful.com/piwi0eufbb2g/3r0qIpzKBQt79aqI5BEhEu/b41b621f2e2b1dac4d8f65e7f20ae5b0/image.png' width='400'>\n",
        "</div>\n",
        "\n"
      ],
      "metadata": {
        "id": "U43WjOwfjbHh"
      }
    },
    {
      "cell_type": "markdown",
      "source": [
        "**Regression Evaluation Metrics**\n",
        "\n",
        "Here are three common evaluation metrics for regression problems:\n",
        "\n",
        "**Mean Absolute Error (MAE)** is the mean of the absolute value of the errors:\n",
        "\n",
        "$$\\frac 1n\\sum_{i=1}^n|y_i-\\hat{y}_i|$$\n",
        "**Mean Squared Error (MSE)** is the mean of the squared errors:\n",
        "\n",
        "$$\\frac 1n\\sum_{i=1}^n(y_i-\\hat{y}_i)^2$$\n",
        "**Root Mean Squared Error (RMSE)** is the square root of the mean of the squared errors:\n",
        "\n",
        "$$\\sqrt{\\frac 1n\\sum_{i=1}^n(y_i-\\hat{y}_i)^2}$$\n",
        "\n",
        "**ŷ** - Predicted value\n",
        "\n",
        "**y** - Actual value\n",
        "\n",
        "**n** - no.of samples\n",
        "\n",
        "**Comparing these metrics:**\n",
        "\n",
        "MAE is the easiest to understand because it’s the average error.\n",
        "MSE is more popular than MAE because MSE “punishes” larger errors, which tends to be useful in the real world.\n",
        "RMSE is even more popular than MSE because RMSE is interpretable in the “y” units.\n",
        "All of these are loss functions because we want to minimize them."
      ],
      "metadata": {
        "id": "Ds-oGUi1mYC1"
      }
    },
    {
      "cell_type": "markdown",
      "source": [
        "**Gradiant Descent**"
      ],
      "metadata": {
        "id": "IdaSbMQQk4xZ"
      }
    },
    {
      "cell_type": "markdown",
      "source": [
        " the word **gradient** means an **increase and decrease in a property or something**! whereas **Descent** means **the act of moving downward**\n",
        "\n",
        "Gradient descent is an iterative optimization algorithm to find the minimum of a function. Here that function is our Loss Function.\n",
        "\n",
        "Gradient descent is a method of updating m and c to reduce the cost function(MSE).\n",
        "\n",
        "The concept is that we start with some m and c values and then reduce the cost by changing them iteratively. Gradient descent assists us in changing the values.\n",
        "\n",
        "<div>\n",
        "<img src='https://miro.medium.com/proxy/0*QwE8M4MupSdqA3M4.png' width='400'>\n",
        "</div>\n"
      ],
      "metadata": {
        "id": "nR06pSd9lCHA"
      }
    },
    {
      "cell_type": "markdown",
      "source": [
        "**Usual example in Gradiant descent:**\n",
        "\n",
        "Imagine a valley and a person with no sense of direction who wants to get to the bottom of the valley. He goes down the slope and takes large steps when the slope is steep and small steps when the slope is less steep. He decides his next position based on his current position and stops when he gets to the bottom of the valley which was his goal.\n",
        "\n",
        "<div>\n",
        "<img src='https://editor.analyticsvidhya.com/uploads/93873gd1.png' width='400'>\n",
        "</div>\n",
        "\n"
      ],
      "metadata": {
        "id": "JgIYye1Hn2f6"
      }
    },
    {
      "cell_type": "markdown",
      "source": [
        "**Why?**\n",
        "\n",
        "*   Gradient descent is by far the most popular optimization strategy used in Machine Learning and Deep Learning at the moment.\n",
        "\n",
        "*   It is used when training Data models, can be combined with every algorithm and is easy to understand and implement."
      ],
      "metadata": {
        "id": "UlZu6w8ttInR"
      }
    }
  ]
}